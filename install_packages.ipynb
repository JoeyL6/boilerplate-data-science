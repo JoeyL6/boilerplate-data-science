{
 "cells": [
  {
   "cell_type": "code",
   "execution_count": null,
   "metadata": {},
   "outputs": [],
   "source": [
    "%load_ext lab_black"
   ]
  },
  {
   "cell_type": "code",
   "execution_count": 1,
   "metadata": {},
   "outputs": [
    {
     "name": "stdout",
     "output_type": "stream",
     "text": [
      "Collecting smart_open[s3]\n",
      "  Downloading smart_open-4.1.2-py3-none-any.whl (111 kB)\n",
      "\u001b[K     |████████████████████████████████| 111 kB 2.9 MB/s eta 0:00:01\n",
      "\u001b[?25hRequirement already satisfied: boto3; extra == \"s3\" in /Library/Frameworks/Python.framework/Versions/3.7/lib/python3.7/site-packages (from smart_open[s3]) (1.9.201)\n",
      "Requirement already satisfied: botocore<1.13.0,>=1.12.201 in /Library/Frameworks/Python.framework/Versions/3.7/lib/python3.7/site-packages (from boto3; extra == \"s3\"->smart_open[s3]) (1.12.204)\n",
      "Requirement already satisfied: s3transfer<0.3.0,>=0.2.0 in /Library/Frameworks/Python.framework/Versions/3.7/lib/python3.7/site-packages (from boto3; extra == \"s3\"->smart_open[s3]) (0.2.1)\n",
      "Requirement already satisfied: jmespath<1.0.0,>=0.7.1 in /Library/Frameworks/Python.framework/Versions/3.7/lib/python3.7/site-packages (from boto3; extra == \"s3\"->smart_open[s3]) (0.9.4)\n",
      "Requirement already satisfied: docutils<0.15,>=0.10 in /Library/Frameworks/Python.framework/Versions/3.7/lib/python3.7/site-packages (from botocore<1.13.0,>=1.12.201->boto3; extra == \"s3\"->smart_open[s3]) (0.14)\n",
      "Requirement already satisfied: python-dateutil<3.0.0,>=2.1; python_version >= \"2.7\" in /Library/Frameworks/Python.framework/Versions/3.7/lib/python3.7/site-packages (from botocore<1.13.0,>=1.12.201->boto3; extra == \"s3\"->smart_open[s3]) (2.8.0)\n",
      "Requirement already satisfied: urllib3<1.26,>=1.20; python_version >= \"3.4\" in /Library/Frameworks/Python.framework/Versions/3.7/lib/python3.7/site-packages (from botocore<1.13.0,>=1.12.201->boto3; extra == \"s3\"->smart_open[s3]) (1.25.3)\n",
      "Requirement already satisfied: six>=1.5 in /Library/Frameworks/Python.framework/Versions/3.7/lib/python3.7/site-packages (from python-dateutil<3.0.0,>=2.1; python_version >= \"2.7\"->botocore<1.13.0,>=1.12.201->boto3; extra == \"s3\"->smart_open[s3]) (1.12.0)\n",
      "Installing collected packages: smart-open\n",
      "Successfully installed smart-open-4.1.2\n",
      "\u001b[33mWARNING: You are using pip version 20.1; however, version 20.3.3 is available.\n",
      "You should consider upgrading via the '/usr/local/bin/python3 -m pip install --upgrade pip' command.\u001b[0m\n",
      "Collecting xgboost\n",
      "  Downloading xgboost-1.3.3-py3-none-macosx_10_14_x86_64.macosx_10_15_x86_64.macosx_11_0_x86_64.whl (1.2 MB)\n",
      "\u001b[K     |████████████████████████████████| 1.2 MB 5.0 MB/s eta 0:00:01\n",
      "\u001b[?25hRequirement already satisfied: scipy in /Library/Frameworks/Python.framework/Versions/3.7/lib/python3.7/site-packages (from xgboost) (1.3.1)\n",
      "Requirement already satisfied: numpy in /Library/Frameworks/Python.framework/Versions/3.7/lib/python3.7/site-packages (from xgboost) (1.17.0)\n",
      "Installing collected packages: xgboost\n",
      "Successfully installed xgboost-1.3.3\n",
      "\u001b[33mWARNING: You are using pip version 20.1; however, version 20.3.3 is available.\n",
      "You should consider upgrading via the '/usr/local/bin/python3 -m pip install --upgrade pip' command.\u001b[0m\n",
      "Requirement already satisfied: pyathena[pandas] in /Library/Frameworks/Python.framework/Versions/3.7/lib/python3.7/site-packages (1.10.5)\n",
      "Requirement already satisfied: tenacity>=4.1.0 in /Library/Frameworks/Python.framework/Versions/3.7/lib/python3.7/site-packages (from pyathena[pandas]) (6.2.0)\n",
      "Requirement already satisfied: future in /Library/Frameworks/Python.framework/Versions/3.7/lib/python3.7/site-packages (from pyathena[pandas]) (0.18.2)\n",
      "Requirement already satisfied: botocore>=1.5.52 in /Library/Frameworks/Python.framework/Versions/3.7/lib/python3.7/site-packages (from pyathena[pandas]) (1.12.204)\n",
      "Requirement already satisfied: boto3>=1.4.4 in /Library/Frameworks/Python.framework/Versions/3.7/lib/python3.7/site-packages (from pyathena[pandas]) (1.9.201)\n",
      "Requirement already satisfied: pandas>=0.24.0; extra == \"pandas\" in /Library/Frameworks/Python.framework/Versions/3.7/lib/python3.7/site-packages (from pyathena[pandas]) (0.25.0)\n",
      "Requirement already satisfied: pyarrow>=0.15.0; extra == \"pandas\" in /Library/Frameworks/Python.framework/Versions/3.7/lib/python3.7/site-packages (from pyathena[pandas]) (0.15.0)\n",
      "Requirement already satisfied: six>=1.9.0 in /Library/Frameworks/Python.framework/Versions/3.7/lib/python3.7/site-packages (from tenacity>=4.1.0->pyathena[pandas]) (1.12.0)\n",
      "Requirement already satisfied: jmespath<1.0.0,>=0.7.1 in /Library/Frameworks/Python.framework/Versions/3.7/lib/python3.7/site-packages (from botocore>=1.5.52->pyathena[pandas]) (0.9.4)\n",
      "Requirement already satisfied: docutils<0.15,>=0.10 in /Library/Frameworks/Python.framework/Versions/3.7/lib/python3.7/site-packages (from botocore>=1.5.52->pyathena[pandas]) (0.14)\n",
      "Requirement already satisfied: python-dateutil<3.0.0,>=2.1; python_version >= \"2.7\" in /Library/Frameworks/Python.framework/Versions/3.7/lib/python3.7/site-packages (from botocore>=1.5.52->pyathena[pandas]) (2.8.0)\n",
      "Requirement already satisfied: urllib3<1.26,>=1.20; python_version >= \"3.4\" in /Library/Frameworks/Python.framework/Versions/3.7/lib/python3.7/site-packages (from botocore>=1.5.52->pyathena[pandas]) (1.25.3)\n",
      "Requirement already satisfied: s3transfer<0.3.0,>=0.2.0 in /Library/Frameworks/Python.framework/Versions/3.7/lib/python3.7/site-packages (from boto3>=1.4.4->pyathena[pandas]) (0.2.1)\n",
      "Requirement already satisfied: pytz>=2017.2 in /Library/Frameworks/Python.framework/Versions/3.7/lib/python3.7/site-packages (from pandas>=0.24.0; extra == \"pandas\"->pyathena[pandas]) (2019.2)\n",
      "Requirement already satisfied: numpy>=1.13.3 in /Library/Frameworks/Python.framework/Versions/3.7/lib/python3.7/site-packages (from pandas>=0.24.0; extra == \"pandas\"->pyathena[pandas]) (1.17.0)\n",
      "\u001b[33mWARNING: You are using pip version 20.1; however, version 20.3.3 is available.\n",
      "You should consider upgrading via the '/usr/local/bin/python3 -m pip install --upgrade pip' command.\u001b[0m\n",
      "Requirement already satisfied: nb_black in /Library/Frameworks/Python.framework/Versions/3.7/lib/python3.7/site-packages (1.0.7)\n",
      "Requirement already satisfied: ipython in /Library/Frameworks/Python.framework/Versions/3.7/lib/python3.7/site-packages (from nb_black) (7.7.0)\n",
      "Requirement already satisfied: black>='19.3'; python_version >= \"3.6\" in /Library/Frameworks/Python.framework/Versions/3.7/lib/python3.7/site-packages (from nb_black) (19.3b0)\n",
      "Requirement already satisfied: traitlets>=4.2 in /Library/Frameworks/Python.framework/Versions/3.7/lib/python3.7/site-packages (from ipython->nb_black) (4.3.2)\n",
      "Requirement already satisfied: appnope; sys_platform == \"darwin\" in /Library/Frameworks/Python.framework/Versions/3.7/lib/python3.7/site-packages (from ipython->nb_black) (0.1.0)\n",
      "Requirement already satisfied: pygments in /Library/Frameworks/Python.framework/Versions/3.7/lib/python3.7/site-packages (from ipython->nb_black) (2.4.2)\n",
      "Requirement already satisfied: pickleshare in /Library/Frameworks/Python.framework/Versions/3.7/lib/python3.7/site-packages (from ipython->nb_black) (0.7.5)\n",
      "Requirement already satisfied: setuptools>=18.5 in /Users/zwl/Library/Python/3.7/lib/python/site-packages (from ipython->nb_black) (46.4.0)\n",
      "Requirement already satisfied: jedi>=0.10 in /Library/Frameworks/Python.framework/Versions/3.7/lib/python3.7/site-packages (from ipython->nb_black) (0.14.1)\n",
      "Requirement already satisfied: decorator in /Library/Frameworks/Python.framework/Versions/3.7/lib/python3.7/site-packages (from ipython->nb_black) (4.4.0)\n",
      "Requirement already satisfied: backcall in /Library/Frameworks/Python.framework/Versions/3.7/lib/python3.7/site-packages (from ipython->nb_black) (0.1.0)\n",
      "Requirement already satisfied: pexpect; sys_platform != \"win32\" in /Library/Frameworks/Python.framework/Versions/3.7/lib/python3.7/site-packages (from ipython->nb_black) (4.7.0)\n",
      "Requirement already satisfied: prompt-toolkit<2.1.0,>=2.0.0 in /Library/Frameworks/Python.framework/Versions/3.7/lib/python3.7/site-packages (from ipython->nb_black) (2.0.9)\n",
      "Requirement already satisfied: click>=6.5 in /Library/Frameworks/Python.framework/Versions/3.7/lib/python3.7/site-packages (from black>='19.3'; python_version >= \"3.6\"->nb_black) (7.0)\n",
      "Requirement already satisfied: appdirs in /Library/Frameworks/Python.framework/Versions/3.7/lib/python3.7/site-packages (from black>='19.3'; python_version >= \"3.6\"->nb_black) (1.4.3)\n",
      "Requirement already satisfied: attrs>=18.1.0 in /Library/Frameworks/Python.framework/Versions/3.7/lib/python3.7/site-packages (from black>='19.3'; python_version >= \"3.6\"->nb_black) (19.1.0)\n",
      "Requirement already satisfied: toml>=0.9.4 in /Library/Frameworks/Python.framework/Versions/3.7/lib/python3.7/site-packages (from black>='19.3'; python_version >= \"3.6\"->nb_black) (0.10.0)\n",
      "Requirement already satisfied: ipython-genutils in /Library/Frameworks/Python.framework/Versions/3.7/lib/python3.7/site-packages (from traitlets>=4.2->ipython->nb_black) (0.2.0)\n",
      "Requirement already satisfied: six in /Library/Frameworks/Python.framework/Versions/3.7/lib/python3.7/site-packages (from traitlets>=4.2->ipython->nb_black) (1.12.0)\n",
      "Requirement already satisfied: parso>=0.5.0 in /Library/Frameworks/Python.framework/Versions/3.7/lib/python3.7/site-packages (from jedi>=0.10->ipython->nb_black) (0.5.1)\n",
      "Requirement already satisfied: ptyprocess>=0.5 in /Library/Frameworks/Python.framework/Versions/3.7/lib/python3.7/site-packages (from pexpect; sys_platform != \"win32\"->ipython->nb_black) (0.6.0)\n",
      "Requirement already satisfied: wcwidth in /Library/Frameworks/Python.framework/Versions/3.7/lib/python3.7/site-packages (from prompt-toolkit<2.1.0,>=2.0.0->ipython->nb_black) (0.1.7)\n",
      "\u001b[33mWARNING: You are using pip version 20.1; however, version 20.3.3 is available.\n",
      "You should consider upgrading via the '/usr/local/bin/python3 -m pip install --upgrade pip' command.\u001b[0m\n"
     ]
    }
   ],
   "source": [
    "! pip install smart_open[s3]\n",
    "! pip install xgboost\n",
    "! pip install pyathena[pandas]\n",
    "! pip install nb_black"
   ]
  },
  {
   "cell_type": "code",
   "execution_count": null,
   "metadata": {},
   "outputs": [],
   "source": []
  }
 ],
 "metadata": {
  "kernelspec": {
   "display_name": "Python 3",
   "language": "python",
   "name": "python3"
  },
  "language_info": {
   "codemirror_mode": {
    "name": "ipython",
    "version": 3
   },
   "file_extension": ".py",
   "mimetype": "text/x-python",
   "name": "python",
   "nbconvert_exporter": "python",
   "pygments_lexer": "ipython3",
   "version": "3.7.4"
  }
 },
 "nbformat": 4,
 "nbformat_minor": 4
}
